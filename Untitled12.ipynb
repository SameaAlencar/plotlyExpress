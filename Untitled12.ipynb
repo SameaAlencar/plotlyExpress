{
  "nbformat": 4,
  "nbformat_minor": 0,
  "metadata": {
    "colab": {
      "name": "Untitled12.ipynb",
      "provenance": [],
      "collapsed_sections": []
    },
    "kernelspec": {
      "name": "python3",
      "display_name": "Python 3"
    },
    "language_info": {
      "name": "python"
    }
  },
  "cells": [
    {
      "cell_type": "code",
      "metadata": {
        "id": "gfP06hfyQXd2"
      },
      "source": [
        "def funcB(L) :\n",
        "  v = L[0]\n",
        "  i = 1\n",
        "  while i < len (L) :\n",
        "    if v > L[i]:\n",
        "      v = L[i]\n",
        "    i += 1\n",
        "  return v \n"
      ],
      "execution_count": null,
      "outputs": []
    },
    {
      "cell_type": "code",
      "metadata": {
        "colab": {
          "base_uri": "https://localhost:8080/"
        },
        "id": "XP01ME95SMKe",
        "outputId": "34480ff5-f0ec-44f2-d813-06aca0bab826"
      },
      "source": [
        "def f(x):\n",
        "  def g(y):\n",
        "    z = sum(range(x))\n",
        "    return z + y\n",
        "  return g\n",
        "k = f(5)\n",
        "print(k(2))"
      ],
      "execution_count": null,
      "outputs": [
        {
          "output_type": "stream",
          "name": "stdout",
          "text": [
            "12\n"
          ]
        }
      ]
    },
    {
      "cell_type": "code",
      "metadata": {
        "colab": {
          "base_uri": "https://localhost:8080/"
        },
        "id": "R6ZqzN1zTsl8",
        "outputId": "ef49fb86-7ba8-4900-8c78-dc384b6a3d2e"
      },
      "source": [
        "def f(L,e,d):\n",
        "  c = (e +d) // 2\n",
        "  print(L[c])\n",
        "  g(L,e,d)\n",
        "\n",
        "def g(L,e,d):\n",
        "  c = (e+d) // 2\n",
        "  for i in range(c, d):\n",
        "    print(L[i])\n",
        "def main():\n",
        "  A= [14,42,35,87,65,23]\n",
        "  f(A,0,5)\n",
        "  g(A,1,4)\n",
        "main()"
      ],
      "execution_count": null,
      "outputs": [
        {
          "output_type": "stream",
          "name": "stdout",
          "text": [
            "35\n",
            "35\n",
            "87\n",
            "65\n",
            "35\n",
            "87\n"
          ]
        }
      ]
    },
    {
      "cell_type": "code",
      "metadata": {
        "id": "2Jj_NSvzVOo0"
      },
      "source": [
        "import plotly.express as px"
      ],
      "execution_count": null,
      "outputs": []
    },
    {
      "cell_type": "code",
      "metadata": {
        "id": "ORVkuP7cVWlj"
      },
      "source": [
        "df = px.data.gapminder()"
      ],
      "execution_count": null,
      "outputs": []
    },
    {
      "cell_type": "code",
      "metadata": {
        "colab": {
          "base_uri": "https://localhost:8080/",
          "height": 300
        },
        "id": "8L27provVbHq",
        "outputId": "04591285-508b-45c1-e730-270f0d2f859a"
      },
      "source": [
        "df.describe()"
      ],
      "execution_count": null,
      "outputs": [
        {
          "output_type": "execute_result",
          "data": {
            "text/html": [
              "<div>\n",
              "<style scoped>\n",
              "    .dataframe tbody tr th:only-of-type {\n",
              "        vertical-align: middle;\n",
              "    }\n",
              "\n",
              "    .dataframe tbody tr th {\n",
              "        vertical-align: top;\n",
              "    }\n",
              "\n",
              "    .dataframe thead th {\n",
              "        text-align: right;\n",
              "    }\n",
              "</style>\n",
              "<table border=\"1\" class=\"dataframe\">\n",
              "  <thead>\n",
              "    <tr style=\"text-align: right;\">\n",
              "      <th></th>\n",
              "      <th>year</th>\n",
              "      <th>lifeExp</th>\n",
              "      <th>pop</th>\n",
              "      <th>gdpPercap</th>\n",
              "      <th>iso_num</th>\n",
              "    </tr>\n",
              "  </thead>\n",
              "  <tbody>\n",
              "    <tr>\n",
              "      <th>count</th>\n",
              "      <td>1704.00000</td>\n",
              "      <td>1704.000000</td>\n",
              "      <td>1.704000e+03</td>\n",
              "      <td>1704.000000</td>\n",
              "      <td>1704.000000</td>\n",
              "    </tr>\n",
              "    <tr>\n",
              "      <th>mean</th>\n",
              "      <td>1979.50000</td>\n",
              "      <td>59.474439</td>\n",
              "      <td>2.960121e+07</td>\n",
              "      <td>7215.327081</td>\n",
              "      <td>425.880282</td>\n",
              "    </tr>\n",
              "    <tr>\n",
              "      <th>std</th>\n",
              "      <td>17.26533</td>\n",
              "      <td>12.917107</td>\n",
              "      <td>1.061579e+08</td>\n",
              "      <td>9857.454543</td>\n",
              "      <td>248.305709</td>\n",
              "    </tr>\n",
              "    <tr>\n",
              "      <th>min</th>\n",
              "      <td>1952.00000</td>\n",
              "      <td>23.599000</td>\n",
              "      <td>6.001100e+04</td>\n",
              "      <td>241.165877</td>\n",
              "      <td>4.000000</td>\n",
              "    </tr>\n",
              "    <tr>\n",
              "      <th>25%</th>\n",
              "      <td>1965.75000</td>\n",
              "      <td>48.198000</td>\n",
              "      <td>2.793664e+06</td>\n",
              "      <td>1202.060309</td>\n",
              "      <td>208.000000</td>\n",
              "    </tr>\n",
              "    <tr>\n",
              "      <th>50%</th>\n",
              "      <td>1979.50000</td>\n",
              "      <td>60.712500</td>\n",
              "      <td>7.023596e+06</td>\n",
              "      <td>3531.846989</td>\n",
              "      <td>410.000000</td>\n",
              "    </tr>\n",
              "    <tr>\n",
              "      <th>75%</th>\n",
              "      <td>1993.25000</td>\n",
              "      <td>70.845500</td>\n",
              "      <td>1.958522e+07</td>\n",
              "      <td>9325.462346</td>\n",
              "      <td>638.000000</td>\n",
              "    </tr>\n",
              "    <tr>\n",
              "      <th>max</th>\n",
              "      <td>2007.00000</td>\n",
              "      <td>82.603000</td>\n",
              "      <td>1.318683e+09</td>\n",
              "      <td>113523.132900</td>\n",
              "      <td>894.000000</td>\n",
              "    </tr>\n",
              "  </tbody>\n",
              "</table>\n",
              "</div>"
            ],
            "text/plain": [
              "             year      lifeExp           pop      gdpPercap      iso_num\n",
              "count  1704.00000  1704.000000  1.704000e+03    1704.000000  1704.000000\n",
              "mean   1979.50000    59.474439  2.960121e+07    7215.327081   425.880282\n",
              "std      17.26533    12.917107  1.061579e+08    9857.454543   248.305709\n",
              "min    1952.00000    23.599000  6.001100e+04     241.165877     4.000000\n",
              "25%    1965.75000    48.198000  2.793664e+06    1202.060309   208.000000\n",
              "50%    1979.50000    60.712500  7.023596e+06    3531.846989   410.000000\n",
              "75%    1993.25000    70.845500  1.958522e+07    9325.462346   638.000000\n",
              "max    2007.00000    82.603000  1.318683e+09  113523.132900   894.000000"
            ]
          },
          "metadata": {},
          "execution_count": 17
        }
      ]
    },
    {
      "cell_type": "markdown",
      "metadata": {
        "id": "ThG-VPdtVfwa"
      },
      "source": [
        "fig = px.r(px.data.gapminder().query(\"lifeExp == 'gdpPercap'\"),\n",
        "                 x =\"gdpPercap\",\n",
        "                 y = 'lifeExp',\n",
        "                 color ='country')\n",
        "\n",
        "---\n",
        "\n",
        "\n",
        "fig.show()"
      ]
    },
    {
      "cell_type": "markdown",
      "metadata": {
        "id": "Dt0HxPnktYFz"
      },
      "source": [
        ""
      ]
    },
    {
      "cell_type": "code",
      "metadata": {
        "id": "a_jAwQ8SXaMp"
      },
      "source": [
        "def func(n, a, b, c):\n",
        "  if n <= 1:\n",
        "    if a > c:\n",
        "      return[a]\n",
        "    else:\n",
        "      return []\n",
        "  else:\n",
        "    L1 = func(n-1, a, c, b)\n",
        "    L1.append(a)\n",
        "    L2 = func(n-1, c, b, a)\n",
        "    return L1 + L2\n",
        "def main():\n",
        " n = 3\n",
        " L = func(n, 1, 2, 2)\n",
        " print (L)\n",
        " \n"
      ],
      "execution_count": null,
      "outputs": []
    },
    {
      "cell_type": "code",
      "metadata": {
        "id": "DOdIzQILayPm"
      },
      "source": [
        "def moda(L):\n",
        "  freqmax = 0\n",
        "  imax = 0\n",
        "  for i in range(len(L)):\n",
        "    freq = 1\n",
        "    for j in range(i+1, len(L)):\n",
        "      if L[j] == L[i]:\n",
        "        freq += 1\n",
        "    if freq > freqmax:\n",
        "      freqmax = freq\n",
        "      imax = i\n",
        "    return L[imax]\n",
        "    print(moda[L])"
      ],
      "execution_count": null,
      "outputs": []
    },
    {
      "cell_type": "code",
      "metadata": {
        "colab": {
          "base_uri": "https://localhost:8080/"
        },
        "id": "Rym0B8dNgHNA",
        "outputId": "abc896ce-b011-41e3-9ae3-25417233e21b"
      },
      "source": [
        "def main() :\n",
        "  L0 = []\n",
        "  v = 32\n",
        "  while (v > 0) :\n",
        "    v = (v // 2) - 2\n",
        "    L0.append([v, 2*v])\n",
        "    L1 = L0\n",
        "    L1[0][1] = (L1[0][0] + L1[len(L1) -1][0]) //2\n",
        "  print(L0)\n",
        "\n",
        "main()"
      ],
      "execution_count": null,
      "outputs": [
        {
          "output_type": "stream",
          "name": "stdout",
          "text": [
            "[[14, 7], [5, 10], [0, 0]]\n"
          ]
        }
      ]
    },
    {
      "cell_type": "code",
      "metadata": {
        "id": "HJfFBbWTlMIU"
      },
      "source": [
        "def funC (v, L):\n",
        "  i = 0\n",
        "  while i < len(L) and v != L[i]:\n",
        "   i += 1\n",
        "  if i < len(L):\n",
        "    R = i\n",
        "  else:\n",
        "    R = -1\n",
        "  return R\n"
      ],
      "execution_count": null,
      "outputs": []
    }
  ]
}